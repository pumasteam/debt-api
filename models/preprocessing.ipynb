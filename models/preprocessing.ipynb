{
 "cells": [
  {
   "cell_type": "code",
   "execution_count": 1,
   "metadata": {},
   "outputs": [],
   "source": [
    "import pandas as pd"
   ]
  },
  {
   "cell_type": "code",
   "execution_count": 2,
   "metadata": {},
   "outputs": [
    {
     "name": "stderr",
     "output_type": "stream",
     "text": [
      "C:\\Users\\TianPV\\AppData\\Local\\Programs\\Python\\Python36\\lib\\site-packages\\IPython\\core\\interactiveshell.py:3072: DtypeWarning: Columns (7,9,1427,1542,1561,1575,1725,1726,1727,1728) have mixed types.Specify dtype option on import or set low_memory=False.\n",
      "  interactivity=interactivity, compiler=compiler, result=result)\n"
     ]
    }
   ],
   "source": [
    "data = pd.read_csv('../data/COLLEGESCORE.csv')"
   ]
  },
  {
   "cell_type": "code",
   "execution_count": 117,
   "metadata": {},
   "outputs": [],
   "source": [
    "features_sat = [\n",
    "    'SATVRMID',\n",
    "    'SATMTMID',\n",
    "    'SATWRMID',\n",
    "    'LO_INC_DEBT_MDN',\n",
    "    'MD_INC_DEBT_MDN',\n",
    "    'HI_INC_DEBT_MDN'\n",
    "]\n",
    "features_act = [\n",
    "    'ACTENMID',\n",
    "    'ACTMTMID',\n",
    "    'ACTWRMID',\n",
    "    'LO_INC_DEBT_MDN',\n",
    "    'MD_INC_DEBT_MDN',\n",
    "    'HI_INC_DEBT_MDN'\n",
    "]\n",
    "supported_states = [\n",
    "    'NY',\n",
    "    'CA',\n",
    "    'MA',\n",
    "    'IL'\n",
    "]"
   ]
  },
  {
   "cell_type": "code",
   "execution_count": 118,
   "metadata": {},
   "outputs": [],
   "source": [
    "def clean_dataset(df, state, test = 'sat'):\n",
    "    test = test.lower()\n",
    "    if test == 'sat':\n",
    "        available_columns = features_sat\n",
    "    elif test == 'act':\n",
    "        available_columns = features_act\n",
    "    new_data = (df[df['STABBR'] == state]).convert_dtypes()[available_columns].dropna()\n",
    "    new_data = new_data.apply(pd.to_numeric, errors = 'coerce').dropna()\n",
    "    return new_data"
   ]
  },
  {
   "cell_type": "code",
   "execution_count": 119,
   "metadata": {},
   "outputs": [],
   "source": [
    "# create datasets\n",
    "data_per_state = {}\n",
    "for state in supported_states:\n",
    "    state_dataset_sat = clean_dataset(data, state, 'sat')\n",
    "    state_dataset_act = clean_dataset(data, state, 'act')\n",
    "    data_per_state[state] = [state_dataset_sat, state_dataset_act]"
   ]
  },
  {
   "cell_type": "code",
   "execution_count": 128,
   "metadata": {},
   "outputs": [],
   "source": [
    "# function to convert datasets to csv and save to data file\n",
    "def data_to_csv(state):\n",
    "    act_dataset = data_per_state[state][1]\n",
    "    sat_dataset = data_per_state[state][0]\n",
    "    act_dataset.to_csv('../data/act_'+state+'.csv')\n",
    "    sat_dataset.to_csv('../data/sat_'+state+'.csv')"
   ]
  },
  {
   "cell_type": "code",
   "execution_count": 129,
   "metadata": {},
   "outputs": [],
   "source": [
    "for state in supported_states:\n",
    "    data_to_csv(state)"
   ]
  },
  {
   "cell_type": "code",
   "execution_count": null,
   "metadata": {},
   "outputs": [],
   "source": []
  }
 ],
 "metadata": {
  "interpreter": {
   "hash": "4184fae79dc3a2c9f8f98935393294d886c9eccddd6835400bcbba68531bbfcb"
  },
  "kernelspec": {
   "display_name": "Python 3.6.8 64-bit",
   "name": "python3"
  },
  "language_info": {
   "codemirror_mode": {
    "name": "ipython",
    "version": 3
   },
   "file_extension": ".py",
   "mimetype": "text/x-python",
   "name": "python",
   "nbconvert_exporter": "python",
   "pygments_lexer": "ipython3",
   "version": "3.6.8"
  },
  "orig_nbformat": 4
 },
 "nbformat": 4,
 "nbformat_minor": 2
}
